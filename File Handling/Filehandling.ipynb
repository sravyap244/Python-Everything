{
 "cells": [
  {
   "cell_type": "code",
   "execution_count": 22,
   "id": "5bebe456-b1a0-418e-a6be-de2c5cd6cb0c",
   "metadata": {},
   "outputs": [],
   "source": [
    "#example1-write mode will over write if theres anything in the file already \n",
    "import os\n",
    "file=open(r\"C:\\Users\\DELL\\Desktop\\demofile.txt\",'w')\n",
    "file.close()"
   ]
  },
  {
   "cell_type": "code",
   "execution_count": 24,
   "id": "8f35832d-0c1a-41fa-9a2b-03d6d3d9cadd",
   "metadata": {},
   "outputs": [
    {
     "name": "stdout",
     "output_type": "stream",
     "text": [
      "i am learning \n"
     ]
    }
   ],
   "source": [
    "#example2- will read the file\n",
    "import os\n",
    "file=open(r\"C:\\Users\\DELL\\Desktop\\demofile.txt\",\"r\")\n",
    "print(file.read())\n",
    "file.close()"
   ]
  },
  {
   "cell_type": "code",
   "execution_count": 25,
   "id": "3caf42f5-b3b0-4bab-b55e-cdb97305a100",
   "metadata": {},
   "outputs": [
    {
     "name": "stdout",
     "output_type": "stream",
     "text": [
      "i am \n"
     ]
    }
   ],
   "source": [
    "#example 3\n",
    "import os\n",
    "file=open(r\"C:\\Users\\DELL\\Desktop\\demofile.txt\",\"r\")\n",
    "print(file.read(5))\n",
    "file.close()"
   ]
  },
  {
   "cell_type": "code",
   "execution_count": 35,
   "id": "a8503e85-f0b3-467d-a18e-5852762b086f",
   "metadata": {},
   "outputs": [
    {
     "name": "stdout",
     "output_type": "stream",
     "text": [
      "i am learning \n",
      "\n"
     ]
    }
   ],
   "source": [
    "#example 4- will read the first line\n",
    "import os\n",
    "file=open(r\"C:\\Users\\DELL\\Desktop\\demofile.txt\",\"r\")\n",
    "print(file.readline())\n",
    "file.close()"
   ]
  },
  {
   "cell_type": "code",
   "execution_count": 36,
   "id": "3e625b59-dd7c-4ff8-9ebc-b9d557418f41",
   "metadata": {},
   "outputs": [
    {
     "name": "stdout",
     "output_type": "stream",
     "text": [
      "['i am learning \\n', 'by youtube \\n', 'edureka \\n', 'suggested\\n', 'by campusx \\n', 'i have a bttle next to me ']\n"
     ]
    }
   ],
   "source": [
    "#example 5-will read all the lines\n",
    "import os\n",
    "file=open(r\"C:\\Users\\DELL\\Desktop\\demofile.txt\",\"r\")\n",
    "print(file.readlines())\n",
    "file.close()"
   ]
  },
  {
   "cell_type": "code",
   "execution_count": 37,
   "id": "e8fe17a4-d64b-4ac9-9b77-ac029eee56a2",
   "metadata": {},
   "outputs": [
    {
     "name": "stdout",
     "output_type": "stream",
     "text": [
      "['by youtube \\n', 'edureka \\n', 'suggested\\n', 'by campusx \\n', 'i have a bttle next to me ']\n"
     ]
    }
   ],
   "source": [
    "#example6 -file handling - for loops\n",
    "import os\n",
    "file=open(r\"C:\\Users\\DELL\\Desktop\\demofile.txt\",\"r\")\n",
    "for line in file:\n",
    "    print(file.readlines())\n",
    "file.close()"
   ]
  },
  {
   "cell_type": "code",
   "execution_count": 38,
   "id": "a64dc75d-13cf-4a91-83e3-04059c3a02cc",
   "metadata": {},
   "outputs": [],
   "source": [
    "#example6 -appending text to existing file\n",
    "import os\n",
    "file=open(r\"C:\\Users\\DELL\\Desktop\\demofile.txt\",\"a\")\n",
    "file.write(\"we love python!\")\n",
    "file.write(\"this is a test!!\")\n",
    "file.write(\"to add more lines\")\n",
    "file.close()"
   ]
  },
  {
   "cell_type": "code",
   "execution_count": 41,
   "id": "f4de41aa-fb36-469f-b67e-c5fc62d1d40b",
   "metadata": {},
   "outputs": [],
   "source": [
    "#example7-creating a new file d1\n",
    "import os\n",
    "file=open(r\"C:\\Users\\DELL\\Desktop\\d2.txt\",\"x\")\n",
    "file.write(\"this is a test file i am creating !!\")\n",
    "file.write(\"lets check \")\n",
    "file.close()"
   ]
  },
  {
   "cell_type": "code",
   "execution_count": 42,
   "id": "16bc6e51-75d4-4de6-9a14-f8636c5929ce",
   "metadata": {},
   "outputs": [],
   "source": [
    "#example8-deleting a file\n",
    "import os\n",
    "if os.path.exists(r\"C:\\Users\\DELL\\Desktop\\d2.txt\"):\n",
    "    os.remove(r\"C:\\Users\\DELL\\Desktop\\d2.txt\")\n",
    "else:\n",
    "    print(\"the file does not exist\")\n"
   ]
  },
  {
   "cell_type": "code",
   "execution_count": 43,
   "id": "a635578d-2c7a-439a-8b92-bb3462975e2d",
   "metadata": {},
   "outputs": [],
   "source": [
    "#example9-deleting a folder (rmdir-removing directory)\n",
    "import os\n",
    "os.rmdir(r\"C:\\Users\\DELL\\Desktop\\sample\")\n"
   ]
  },
  {
   "cell_type": "code",
   "execution_count": null,
   "id": "d342e3df-b974-4cd9-865f-9db6429bf4bb",
   "metadata": {},
   "outputs": [],
   "source": []
  }
 ],
 "metadata": {
  "kernelspec": {
   "display_name": "Python 3 (ipykernel)",
   "language": "python",
   "name": "python3"
  },
  "language_info": {
   "codemirror_mode": {
    "name": "ipython",
    "version": 3
   },
   "file_extension": ".py",
   "mimetype": "text/x-python",
   "name": "python",
   "nbconvert_exporter": "python",
   "pygments_lexer": "ipython3",
   "version": "3.12.7"
  }
 },
 "nbformat": 4,
 "nbformat_minor": 5
}
